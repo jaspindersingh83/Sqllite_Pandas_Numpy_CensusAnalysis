{
 "cells": [
  {
   "cell_type": "code",
   "execution_count": 1,
   "metadata": {
    "collapsed": false
   },
   "outputs": [
    {
     "data": {
      "text/plain": [
       "[('Ashmore and Cartier Islands',),\n",
       " ('Coral Sea Islands',),\n",
       " ('Heard Island and McDonald Islands',),\n",
       " ('Clipperton Island',),\n",
       " ('French Southern and Antarctic Lands',),\n",
       " ('Bouvet Island',),\n",
       " ('Jan Mayen',),\n",
       " ('British Indian Ocean Territory',),\n",
       " ('South Georgia and South Sandwich Islands',),\n",
       " ('Navassa Island',)]"
      ]
     },
     "execution_count": 1,
     "metadata": {},
     "output_type": "execute_result"
    }
   ],
   "source": [
    "import sqlite3\n",
    "conn=sqlite3.connect(\"factbook.db\")\n",
    "data=conn.execute(\"select name from facts order by population asc limit 10;\").fetchall()\n",
    "data\n"
   ]
  },
  {
   "cell_type": "code",
   "execution_count": null,
   "metadata": {
    "collapsed": true
   },
   "outputs": [],
   "source": []
  }
 ],
 "metadata": {
  "kernelspec": {
   "display_name": "Python 3",
   "language": "python",
   "name": "python3"
  },
  "language_info": {
   "codemirror_mode": {
    "name": "ipython",
    "version": 3
   },
   "file_extension": ".py",
   "mimetype": "text/x-python",
   "name": "python",
   "nbconvert_exporter": "python",
   "pygments_lexer": "ipython3",
   "version": "3.6.0"
  }
 },
 "nbformat": 4,
 "nbformat_minor": 2
}
