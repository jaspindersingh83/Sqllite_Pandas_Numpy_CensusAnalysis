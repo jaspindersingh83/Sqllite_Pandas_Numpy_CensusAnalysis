{
 "cells": [
  {
   "cell_type": "code",
   "execution_count": 149,
   "metadata": {
    "collapsed": false
   },
   "outputs": [
    {
     "data": {
      "text/plain": [
       "[('Ashmore and Cartier Islands',),\n",
       " ('Coral Sea Islands',),\n",
       " ('Heard Island and McDonald Islands',),\n",
       " ('Clipperton Island',),\n",
       " ('French Southern and Antarctic Lands',),\n",
       " ('Bouvet Island',),\n",
       " ('Jan Mayen',),\n",
       " ('British Indian Ocean Territory',),\n",
       " ('South Georgia and South Sandwich Islands',),\n",
       " ('Navassa Island',)]"
      ]
     },
     "execution_count": 149,
     "metadata": {},
     "output_type": "execute_result"
    }
   ],
   "source": [
    "import sqlite3\n",
    "import numpy as np\n",
    "import pandas as pd\n",
    "conn=sqlite3.connect(\"factbook.db\")\n",
    "\n",
    "##Playing around with sql db initially to learn connection methods\n",
    "data=conn.execute(\"select name from facts order by population asc limit 10;\").fetchall()\n",
    "data\n"
   ]
  },
  {
   "cell_type": "code",
   "execution_count": 150,
   "metadata": {
    "collapsed": false
   },
   "outputs": [
    {
     "data": {
      "text/html": [
       "<div>\n",
       "<table border=\"1\" class=\"dataframe\">\n",
       "  <thead>\n",
       "    <tr style=\"text-align: right;\">\n",
       "      <th></th>\n",
       "      <th>id</th>\n",
       "      <th>code</th>\n",
       "      <th>name</th>\n",
       "      <th>area</th>\n",
       "      <th>area_land</th>\n",
       "      <th>area_water</th>\n",
       "      <th>population</th>\n",
       "      <th>population_growth</th>\n",
       "      <th>birth_rate</th>\n",
       "      <th>death_rate</th>\n",
       "      <th>migration_rate</th>\n",
       "      <th>created_at</th>\n",
       "      <th>updated_at</th>\n",
       "    </tr>\n",
       "  </thead>\n",
       "  <tbody>\n",
       "    <tr>\n",
       "      <th>0</th>\n",
       "      <td>1</td>\n",
       "      <td>af</td>\n",
       "      <td>Afghanistan</td>\n",
       "      <td>652230.0</td>\n",
       "      <td>652230.0</td>\n",
       "      <td>0.0</td>\n",
       "      <td>32564342.0</td>\n",
       "      <td>2.32</td>\n",
       "      <td>38.57</td>\n",
       "      <td>13.89</td>\n",
       "      <td>1.51</td>\n",
       "      <td>2015-11-01 13:19:49.461734</td>\n",
       "      <td>2015-11-01 13:19:49.461734</td>\n",
       "    </tr>\n",
       "    <tr>\n",
       "      <th>1</th>\n",
       "      <td>2</td>\n",
       "      <td>al</td>\n",
       "      <td>Albania</td>\n",
       "      <td>28748.0</td>\n",
       "      <td>27398.0</td>\n",
       "      <td>1350.0</td>\n",
       "      <td>3029278.0</td>\n",
       "      <td>0.30</td>\n",
       "      <td>12.92</td>\n",
       "      <td>6.58</td>\n",
       "      <td>3.30</td>\n",
       "      <td>2015-11-01 13:19:54.431082</td>\n",
       "      <td>2015-11-01 13:19:54.431082</td>\n",
       "    </tr>\n",
       "    <tr>\n",
       "      <th>2</th>\n",
       "      <td>3</td>\n",
       "      <td>ag</td>\n",
       "      <td>Algeria</td>\n",
       "      <td>2381741.0</td>\n",
       "      <td>2381741.0</td>\n",
       "      <td>0.0</td>\n",
       "      <td>39542166.0</td>\n",
       "      <td>1.84</td>\n",
       "      <td>23.67</td>\n",
       "      <td>4.31</td>\n",
       "      <td>0.92</td>\n",
       "      <td>2015-11-01 13:19:59.961286</td>\n",
       "      <td>2015-11-01 13:19:59.961286</td>\n",
       "    </tr>\n",
       "    <tr>\n",
       "      <th>3</th>\n",
       "      <td>4</td>\n",
       "      <td>an</td>\n",
       "      <td>Andorra</td>\n",
       "      <td>468.0</td>\n",
       "      <td>468.0</td>\n",
       "      <td>0.0</td>\n",
       "      <td>85580.0</td>\n",
       "      <td>0.12</td>\n",
       "      <td>8.13</td>\n",
       "      <td>6.96</td>\n",
       "      <td>0.00</td>\n",
       "      <td>2015-11-01 13:20:03.659945</td>\n",
       "      <td>2015-11-01 13:20:03.659945</td>\n",
       "    </tr>\n",
       "    <tr>\n",
       "      <th>4</th>\n",
       "      <td>5</td>\n",
       "      <td>ao</td>\n",
       "      <td>Angola</td>\n",
       "      <td>1246700.0</td>\n",
       "      <td>1246700.0</td>\n",
       "      <td>0.0</td>\n",
       "      <td>19625353.0</td>\n",
       "      <td>2.78</td>\n",
       "      <td>38.78</td>\n",
       "      <td>11.49</td>\n",
       "      <td>0.46</td>\n",
       "      <td>2015-11-01 13:20:08.625072</td>\n",
       "      <td>2015-11-01 13:20:08.625072</td>\n",
       "    </tr>\n",
       "    <tr>\n",
       "      <th>5</th>\n",
       "      <td>6</td>\n",
       "      <td>ac</td>\n",
       "      <td>Antigua and Barbuda</td>\n",
       "      <td>442.0</td>\n",
       "      <td>442.0</td>\n",
       "      <td>0.0</td>\n",
       "      <td>92436.0</td>\n",
       "      <td>1.24</td>\n",
       "      <td>15.85</td>\n",
       "      <td>5.69</td>\n",
       "      <td>2.21</td>\n",
       "      <td>2015-11-01 13:20:13.049627</td>\n",
       "      <td>2015-11-01 13:20:13.049627</td>\n",
       "    </tr>\n",
       "    <tr>\n",
       "      <th>6</th>\n",
       "      <td>7</td>\n",
       "      <td>ar</td>\n",
       "      <td>Argentina</td>\n",
       "      <td>2780400.0</td>\n",
       "      <td>2736690.0</td>\n",
       "      <td>43710.0</td>\n",
       "      <td>43431886.0</td>\n",
       "      <td>0.93</td>\n",
       "      <td>16.64</td>\n",
       "      <td>7.33</td>\n",
       "      <td>0.00</td>\n",
       "      <td>2015-11-01 13:20:18.233063</td>\n",
       "      <td>2015-11-01 13:20:18.233063</td>\n",
       "    </tr>\n",
       "    <tr>\n",
       "      <th>7</th>\n",
       "      <td>8</td>\n",
       "      <td>am</td>\n",
       "      <td>Armenia</td>\n",
       "      <td>29743.0</td>\n",
       "      <td>28203.0</td>\n",
       "      <td>1540.0</td>\n",
       "      <td>3056382.0</td>\n",
       "      <td>0.15</td>\n",
       "      <td>13.61</td>\n",
       "      <td>9.34</td>\n",
       "      <td>5.80</td>\n",
       "      <td>2015-11-01 13:20:23.048753</td>\n",
       "      <td>2015-11-01 13:20:23.048753</td>\n",
       "    </tr>\n",
       "    <tr>\n",
       "      <th>8</th>\n",
       "      <td>9</td>\n",
       "      <td>as</td>\n",
       "      <td>Australia</td>\n",
       "      <td>7741220.0</td>\n",
       "      <td>7682300.0</td>\n",
       "      <td>58920.0</td>\n",
       "      <td>22751014.0</td>\n",
       "      <td>1.07</td>\n",
       "      <td>12.15</td>\n",
       "      <td>7.14</td>\n",
       "      <td>5.65</td>\n",
       "      <td>2015-11-01 13:20:28.186341</td>\n",
       "      <td>2015-11-01 13:20:28.186341</td>\n",
       "    </tr>\n",
       "    <tr>\n",
       "      <th>9</th>\n",
       "      <td>10</td>\n",
       "      <td>au</td>\n",
       "      <td>Austria</td>\n",
       "      <td>83871.0</td>\n",
       "      <td>82445.0</td>\n",
       "      <td>1426.0</td>\n",
       "      <td>8665550.0</td>\n",
       "      <td>0.55</td>\n",
       "      <td>9.41</td>\n",
       "      <td>9.42</td>\n",
       "      <td>5.56</td>\n",
       "      <td>2015-11-01 13:20:33.093597</td>\n",
       "      <td>2015-11-01 13:20:33.093597</td>\n",
       "    </tr>\n",
       "  </tbody>\n",
       "</table>\n",
       "</div>"
      ],
      "text/plain": [
       "   id code                 name       area  area_land  area_water  population  \\\n",
       "0   1   af          Afghanistan   652230.0   652230.0         0.0  32564342.0   \n",
       "1   2   al              Albania    28748.0    27398.0      1350.0   3029278.0   \n",
       "2   3   ag              Algeria  2381741.0  2381741.0         0.0  39542166.0   \n",
       "3   4   an              Andorra      468.0      468.0         0.0     85580.0   \n",
       "4   5   ao               Angola  1246700.0  1246700.0         0.0  19625353.0   \n",
       "5   6   ac  Antigua and Barbuda      442.0      442.0         0.0     92436.0   \n",
       "6   7   ar            Argentina  2780400.0  2736690.0     43710.0  43431886.0   \n",
       "7   8   am              Armenia    29743.0    28203.0      1540.0   3056382.0   \n",
       "8   9   as            Australia  7741220.0  7682300.0     58920.0  22751014.0   \n",
       "9  10   au              Austria    83871.0    82445.0      1426.0   8665550.0   \n",
       "\n",
       "   population_growth  birth_rate  death_rate  migration_rate  \\\n",
       "0               2.32       38.57       13.89            1.51   \n",
       "1               0.30       12.92        6.58            3.30   \n",
       "2               1.84       23.67        4.31            0.92   \n",
       "3               0.12        8.13        6.96            0.00   \n",
       "4               2.78       38.78       11.49            0.46   \n",
       "5               1.24       15.85        5.69            2.21   \n",
       "6               0.93       16.64        7.33            0.00   \n",
       "7               0.15       13.61        9.34            5.80   \n",
       "8               1.07       12.15        7.14            5.65   \n",
       "9               0.55        9.41        9.42            5.56   \n",
       "\n",
       "                   created_at                  updated_at  \n",
       "0  2015-11-01 13:19:49.461734  2015-11-01 13:19:49.461734  \n",
       "1  2015-11-01 13:19:54.431082  2015-11-01 13:19:54.431082  \n",
       "2  2015-11-01 13:19:59.961286  2015-11-01 13:19:59.961286  \n",
       "3  2015-11-01 13:20:03.659945  2015-11-01 13:20:03.659945  \n",
       "4  2015-11-01 13:20:08.625072  2015-11-01 13:20:08.625072  \n",
       "5  2015-11-01 13:20:13.049627  2015-11-01 13:20:13.049627  \n",
       "6  2015-11-01 13:20:18.233063  2015-11-01 13:20:18.233063  \n",
       "7  2015-11-01 13:20:23.048753  2015-11-01 13:20:23.048753  \n",
       "8  2015-11-01 13:20:28.186341  2015-11-01 13:20:28.186341  \n",
       "9  2015-11-01 13:20:33.093597  2015-11-01 13:20:33.093597  "
      ]
     },
     "execution_count": 150,
     "metadata": {},
     "output_type": "execute_result"
    }
   ],
   "source": [
    "###USing pandas to read sql db\n",
    "\n",
    "dataframe=pd.read_sql(\"select * from facts ;\",conn)\n",
    "\n",
    "dataframe.head(10)\n",
    "\n",
    "\n"
   ]
  },
  {
   "cell_type": "code",
   "execution_count": 172,
   "metadata": {
    "collapsed": false
   },
   "outputs": [
    {
     "data": {
      "text/plain": [
       "76                                 India\n",
       "36                                 China\n",
       "128                              Nigeria\n",
       "185                        United States\n",
       "77                             Indonesia\n",
       "131                             Pakistan\n",
       "13                            Bangladesh\n",
       "23                                Brazil\n",
       "39     Congo, Democratic Republic of the\n",
       "113                               Mexico\n",
       "Name: name, dtype: object"
      ]
     },
     "execution_count": 172,
     "metadata": {},
     "output_type": "execute_result"
    }
   ],
   "source": [
    "dataframe=dataframe.dropna(subset=[\"area_land\",\"population\",\"population_growth\"])\n",
    "\n",
    "###def a function to apply to the whole dataframe to get population of each city in 2050\n",
    "def population_2050(df):\n",
    "    ###form a df with only population and population_growth. filter_out the data with NaNs in both columns\n",
    "    pop_series=df[\"population\"]\n",
    "    growth_series=df[\"population_growth\"]\n",
    "    ### because we have 35 years from 2015 and growth rate is ain %\n",
    "    growth_multiplier=np.exp(growth_series*0.35)\n",
    "    population_2050=pop_series*growth_multiplier\n",
    "    return population_2050\n",
    "\n",
    "\n",
    "dataframe[\"population_2050\"]=population_2050(dataframe)\n",
    "dataframe.sort_values(\"population_2050\",inplace=True,ascending=False)\n",
    "dataframe[\"name\"].head(10)\n",
    "\n",
    "\n",
    "\n",
    "\n",
    "\n",
    "\n",
    "  \n",
    "    \n",
    "    \n",
    "\n",
    "    \n",
    "\n"
   ]
  },
  {
   "cell_type": "code",
   "execution_count": 167,
   "metadata": {
    "collapsed": false
   },
   "outputs": [
    {
     "data": {
      "text/plain": [
       "28.669322660194847"
      ]
     },
     "execution_count": 167,
     "metadata": {},
     "output_type": "execute_result"
    }
   ],
   "source": [
    "### Land Area: Water Area in the world \n",
    "\n",
    "land_area=dataframe[\"area_land\"].sum()\n",
    "Water_area=dataframe[\"area_water\"].sum()\n",
    "Ratio=land_area/Water_area\n",
    "Ratio\n",
    "\n"
   ]
  },
  {
   "cell_type": "code",
   "execution_count": 168,
   "metadata": {
    "collapsed": false
   },
   "outputs": [
    {
     "name": "stdout",
     "output_type": "stream",
     "text": [
      "206                            Greenland\n",
      "223                             Svalbard\n",
      "231    Falkland Islands (Islas Malvinas)\n",
      "237                     Pitcairn Islands\n",
      "117                             Mongolia\n",
      "Name: name, dtype: object\n"
     ]
    }
   ],
   "source": [
    "###Which 5 countries have the lowest population density?\n",
    "dataframe[\"population_density\"]=dataframe[\"population\"]/dataframe[\"area_land\"]\n",
    "ascending_by_density=dataframe.sort_values(\"population_density\")\n",
    "print(ascending_by_density[\"name\"].head())\n",
    "\n"
   ]
  },
  {
   "cell_type": "code",
   "execution_count": 169,
   "metadata": {
    "collapsed": false
   },
   "outputs": [
    {
     "data": {
      "text/plain": [
       "203                  Hong Kong\n",
       "155                  Singapore\n",
       "116                     Monaco\n",
       "204                      Macau\n",
       "189    Holy See (Vatican City)\n",
       "Name: name, dtype: object"
      ]
     },
     "execution_count": 169,
     "metadata": {},
     "output_type": "execute_result"
    }
   ],
   "source": [
    "###Which 5 countries have the highest population density?\n",
    "\n",
    "ascending_by_density[\"name\"].tail()"
   ]
  },
  {
   "cell_type": "code",
   "execution_count": 170,
   "metadata": {
    "collapsed": false
   },
   "outputs": [
    {
     "data": {
      "text/plain": [
       "140    Qatar\n",
       "Name: name, dtype: object"
      ]
     },
     "execution_count": 170,
     "metadata": {},
     "output_type": "execute_result"
    }
   ],
   "source": [
    "###Which country receives the most immigrants?\n",
    "dataframe[dataframe[\"migration_rate\"]==dataframe[\"migration_rate\"].max()][\"name\"]\n"
   ]
  },
  {
   "cell_type": "code",
   "execution_count": 160,
   "metadata": {
    "collapsed": false
   },
   "outputs": [
    {
     "data": {
      "text/plain": [
       "3                                            Andorra\n",
       "6                                          Argentina\n",
       "10                                        Azerbaijan\n",
       "11                                      Bahamas, The\n",
       "17                                            Belize\n",
       "18                                             Benin\n",
       "19                                            Bhutan\n",
       "26                                      Burkina Faso\n",
       "28                                           Burundi\n",
       "33                          Central African Republic\n",
       "42                                     Cote d'Ivoire\n",
       "51                                           Ecuador\n",
       "54                                 Equatorial Guinea\n",
       "55                                           Eritrea\n",
       "69                                            Guinea\n",
       "70                                     Guinea-Bissau\n",
       "84                                             Japan\n",
       "90                                      Korea, South\n",
       "98                                           Liberia\n",
       "104                                       Madagascar\n",
       "105                                           Malawi\n",
       "112                                        Mauritius\n",
       "121                                          Namibia\n",
       "134                                 Papua New Guinea\n",
       "152                                           Serbia\n",
       "166                                        Swaziland\n",
       "172                                         Thailand\n",
       "174                                             Togo\n",
       "190                                        Venezuela\n",
       "194                                         Zimbabwe\n",
       "205                                    Faroe Islands\n",
       "236                                       Montserrat\n",
       "238    Saint Helena, Ascension, and Tristan da Cunha\n",
       "250                                       Gaza Strip\n",
       "253                                        West Bank\n",
       "Name: name, dtype: object"
      ]
     },
     "execution_count": 160,
     "metadata": {},
     "output_type": "execute_result"
    }
   ],
   "source": [
    "###Which top country lose the most emigrants?\n",
    "dataframe[dataframe[\"migration_rate\"]==dataframe[\"migration_rate\"].min()][\"name\"]\n",
    "\n",
    "\n",
    "\n"
   ]
  },
  {
   "cell_type": "code",
   "execution_count": null,
   "metadata": {
    "collapsed": true
   },
   "outputs": [],
   "source": []
  }
 ],
 "metadata": {
  "kernelspec": {
   "display_name": "Python 3",
   "language": "python",
   "name": "python3"
  },
  "language_info": {
   "codemirror_mode": {
    "name": "ipython",
    "version": 3
   },
   "file_extension": ".py",
   "mimetype": "text/x-python",
   "name": "python",
   "nbconvert_exporter": "python",
   "pygments_lexer": "ipython3",
   "version": "3.6.0"
  }
 },
 "nbformat": 4,
 "nbformat_minor": 2
}
